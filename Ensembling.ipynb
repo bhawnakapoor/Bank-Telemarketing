{
 "cells": [
  {
   "cell_type": "code",
   "execution_count": 50,
   "metadata": {
    "collapsed": true
   },
   "outputs": [],
   "source": [
    "# Imports\n",
    "import pandas as pd\n",
    "import numpy as np\n",
    "import matplotlib.pyplot as plt\n",
    "import seaborn as sns\n",
    "from IPython.display import display\n",
    "from sklearn.model_selection import train_test_split\n",
    "from sklearn.linear_model import LogisticRegression\n",
    "from sklearn.svm import SVC\n",
    "from sklearn.ensemble import RandomForestClassifier\n",
    "from sklearn.neighbors import KNeighborsClassifier\n",
    "from sklearn.metrics import accuracy_score\n",
    "\n",
    "# Definitions\n",
    "pd.set_option('display.float_format', lambda x: '%.6f' % x)\n",
    "%matplotlib inline\n",
    "njobs = 4\n",
    "randomState = 0"
   ]
  },
  {
   "cell_type": "code",
   "execution_count": 2,
   "metadata": {
    "collapsed": false
   },
   "outputs": [],
   "source": [
    "# Load preprocessed data\n",
    "data = pd.read_csv(\"cleanData/data.csv\")\n",
    "y = pd.read_csv(\"cleanData/y.csv\", header = None)\n",
    "y = y[0]\n",
    "\n",
    "X_train, X_test, y_train, y_test = train_test_split(data, y, test_size = 0.25, random_state = randomState)"
   ]
  },
  {
   "cell_type": "code",
   "execution_count": 3,
   "metadata": {
    "collapsed": false
   },
   "outputs": [
    {
     "name": "stdout",
     "output_type": "stream",
     "text": [
      "0.897737205011\n"
     ]
    }
   ],
   "source": [
    "# Logistic Regression\n",
    "lr = LogisticRegression(random_state = randomState, \n",
    "                        C = 3,\n",
    "                        n_jobs = njobs)\n",
    "lr.fit(X_train, y_train)\n",
    "y_pred_lr = lr.predict(X_test)\n",
    "print(lr.score(X_test, y_test))"
   ]
  },
  {
   "cell_type": "code",
   "execution_count": 5,
   "metadata": {
    "collapsed": false
   },
   "outputs": [
    {
     "name": "stdout",
     "output_type": "stream",
     "text": [
      "0.897348742352\n"
     ]
    }
   ],
   "source": [
    "# SVM\n",
    "svm = SVC(random_state = randomState)\n",
    "svm.fit(X_train, y_train)\n",
    "y_pred_svm = svm.predict(X_test)\n",
    "print(svm.score(X_test, y_test))"
   ]
  },
  {
   "cell_type": "code",
   "execution_count": 6,
   "metadata": {
    "collapsed": false
   },
   "outputs": [
    {
     "name": "stdout",
     "output_type": "stream",
     "text": [
      "0.897542973682\n"
     ]
    }
   ],
   "source": [
    "# Random Forests\n",
    "rf = RandomForestClassifier(random_state = randomState, \n",
    "                            n_estimators = 300, \n",
    "                            max_depth = 5,\n",
    "                            n_jobs = njobs)\n",
    "rf.fit(X_train, y_train)\n",
    "y_pred_rf = rf.predict(X_test)\n",
    "print(rf.score(X_test, y_test))"
   ]
  },
  {
   "cell_type": "code",
   "execution_count": 7,
   "metadata": {
    "collapsed": false
   },
   "outputs": [
    {
     "name": "stdout",
     "output_type": "stream",
     "text": [
      "0.896863164028\n"
     ]
    }
   ],
   "source": [
    "# KNN\n",
    "knn = KNeighborsClassifier(n_neighbors = 20,\n",
    "                           n_jobs = njobs)\n",
    "knn.fit(X_train, y_train)\n",
    "y_pred_knn = knn.predict(X_test)\n",
    "print(knn.score(X_test, y_test))"
   ]
  },
  {
   "cell_type": "code",
   "execution_count": 58,
   "metadata": {
    "collapsed": false,
    "scrolled": false
   },
   "outputs": [
    {
     "name": "stdout",
     "output_type": "stream",
     "text": [
      "Head : \n"
     ]
    },
    {
     "data": {
      "text/html": [
       "<div>\n",
       "<table border=\"1\" class=\"dataframe\">\n",
       "  <thead>\n",
       "    <tr style=\"text-align: right;\">\n",
       "      <th></th>\n",
       "      <th>names</th>\n",
       "      <th>scores50</th>\n",
       "      <th>scores75</th>\n",
       "    </tr>\n",
       "  </thead>\n",
       "  <tbody>\n",
       "    <tr>\n",
       "      <th>4</th>\n",
       "      <td>0-0-0.5-0.5</td>\n",
       "      <td>0.898126</td>\n",
       "      <td>0.898126</td>\n",
       "    </tr>\n",
       "    <tr>\n",
       "      <th>30</th>\n",
       "      <td>0-0.4-0.1-0.5</td>\n",
       "      <td>0.898126</td>\n",
       "      <td>0.898126</td>\n",
       "    </tr>\n",
       "    <tr>\n",
       "      <th>25</th>\n",
       "      <td>0-0.3-0.2-0.5</td>\n",
       "      <td>0.898126</td>\n",
       "      <td>0.898126</td>\n",
       "    </tr>\n",
       "    <tr>\n",
       "      <th>12</th>\n",
       "      <td>0-0.1-0.4-0.5</td>\n",
       "      <td>0.898126</td>\n",
       "      <td>0.898126</td>\n",
       "    </tr>\n",
       "    <tr>\n",
       "      <th>19</th>\n",
       "      <td>0-0.2-0.3-0.5</td>\n",
       "      <td>0.898126</td>\n",
       "      <td>0.898126</td>\n",
       "    </tr>\n",
       "    <tr>\n",
       "      <th>55</th>\n",
       "      <td>0.1-0-0.4-0.5</td>\n",
       "      <td>0.898029</td>\n",
       "      <td>0.898029</td>\n",
       "    </tr>\n",
       "    <tr>\n",
       "      <th>110</th>\n",
       "      <td>0.2-0.2-0.1-0.5</td>\n",
       "      <td>0.898029</td>\n",
       "      <td>0.898029</td>\n",
       "    </tr>\n",
       "    <tr>\n",
       "      <th>104</th>\n",
       "      <td>0.2-0.1-0.2-0.5</td>\n",
       "      <td>0.898029</td>\n",
       "      <td>0.898029</td>\n",
       "    </tr>\n",
       "    <tr>\n",
       "      <th>134</th>\n",
       "      <td>0.3-0-0.2-0.5</td>\n",
       "      <td>0.898029</td>\n",
       "      <td>0.898029</td>\n",
       "    </tr>\n",
       "    <tr>\n",
       "      <th>139</th>\n",
       "      <td>0.3-0.1-0.1-0.5</td>\n",
       "      <td>0.898029</td>\n",
       "      <td>0.898029</td>\n",
       "    </tr>\n",
       "  </tbody>\n",
       "</table>\n",
       "</div>"
      ],
      "text/plain": [
       "               names  scores50  scores75\n",
       "4        0-0-0.5-0.5  0.898126  0.898126\n",
       "30     0-0.4-0.1-0.5  0.898126  0.898126\n",
       "25     0-0.3-0.2-0.5  0.898126  0.898126\n",
       "12     0-0.1-0.4-0.5  0.898126  0.898126\n",
       "19     0-0.2-0.3-0.5  0.898126  0.898126\n",
       "55     0.1-0-0.4-0.5  0.898029  0.898029\n",
       "110  0.2-0.2-0.1-0.5  0.898029  0.898029\n",
       "104  0.2-0.1-0.2-0.5  0.898029  0.898029\n",
       "134    0.3-0-0.2-0.5  0.898029  0.898029\n",
       "139  0.3-0.1-0.1-0.5  0.898029  0.898029"
      ]
     },
     "metadata": {},
     "output_type": "display_data"
    },
    {
     "data": {
      "text/html": [
       "<div>\n",
       "<table border=\"1\" class=\"dataframe\">\n",
       "  <thead>\n",
       "    <tr style=\"text-align: right;\">\n",
       "      <th></th>\n",
       "      <th>names</th>\n",
       "      <th>scores50</th>\n",
       "      <th>scores75</th>\n",
       "    </tr>\n",
       "  </thead>\n",
       "  <tbody>\n",
       "    <tr>\n",
       "      <th>4</th>\n",
       "      <td>0-0-0.5-0.5</td>\n",
       "      <td>0.898126</td>\n",
       "      <td>0.898126</td>\n",
       "    </tr>\n",
       "    <tr>\n",
       "      <th>30</th>\n",
       "      <td>0-0.4-0.1-0.5</td>\n",
       "      <td>0.898126</td>\n",
       "      <td>0.898126</td>\n",
       "    </tr>\n",
       "    <tr>\n",
       "      <th>25</th>\n",
       "      <td>0-0.3-0.2-0.5</td>\n",
       "      <td>0.898126</td>\n",
       "      <td>0.898126</td>\n",
       "    </tr>\n",
       "    <tr>\n",
       "      <th>12</th>\n",
       "      <td>0-0.1-0.4-0.5</td>\n",
       "      <td>0.898126</td>\n",
       "      <td>0.898126</td>\n",
       "    </tr>\n",
       "    <tr>\n",
       "      <th>19</th>\n",
       "      <td>0-0.2-0.3-0.5</td>\n",
       "      <td>0.898126</td>\n",
       "      <td>0.898126</td>\n",
       "    </tr>\n",
       "    <tr>\n",
       "      <th>55</th>\n",
       "      <td>0.1-0-0.4-0.5</td>\n",
       "      <td>0.898029</td>\n",
       "      <td>0.898029</td>\n",
       "    </tr>\n",
       "    <tr>\n",
       "      <th>110</th>\n",
       "      <td>0.2-0.2-0.1-0.5</td>\n",
       "      <td>0.898029</td>\n",
       "      <td>0.898029</td>\n",
       "    </tr>\n",
       "    <tr>\n",
       "      <th>104</th>\n",
       "      <td>0.2-0.1-0.2-0.5</td>\n",
       "      <td>0.898029</td>\n",
       "      <td>0.898029</td>\n",
       "    </tr>\n",
       "    <tr>\n",
       "      <th>134</th>\n",
       "      <td>0.3-0-0.2-0.5</td>\n",
       "      <td>0.898029</td>\n",
       "      <td>0.898029</td>\n",
       "    </tr>\n",
       "    <tr>\n",
       "      <th>139</th>\n",
       "      <td>0.3-0.1-0.1-0.5</td>\n",
       "      <td>0.898029</td>\n",
       "      <td>0.898029</td>\n",
       "    </tr>\n",
       "  </tbody>\n",
       "</table>\n",
       "</div>"
      ],
      "text/plain": [
       "               names  scores50  scores75\n",
       "4        0-0-0.5-0.5  0.898126  0.898126\n",
       "30     0-0.4-0.1-0.5  0.898126  0.898126\n",
       "25     0-0.3-0.2-0.5  0.898126  0.898126\n",
       "12     0-0.1-0.4-0.5  0.898126  0.898126\n",
       "19     0-0.2-0.3-0.5  0.898126  0.898126\n",
       "55     0.1-0-0.4-0.5  0.898029  0.898029\n",
       "110  0.2-0.2-0.1-0.5  0.898029  0.898029\n",
       "104  0.2-0.1-0.2-0.5  0.898029  0.898029\n",
       "134    0.3-0-0.2-0.5  0.898029  0.898029\n",
       "139  0.3-0.1-0.1-0.5  0.898029  0.898029"
      ]
     },
     "metadata": {},
     "output_type": "display_data"
    },
    {
     "name": "stdout",
     "output_type": "stream",
     "text": [
      "Tail : \n"
     ]
    },
    {
     "data": {
      "text/html": [
       "<div>\n",
       "<table border=\"1\" class=\"dataframe\">\n",
       "  <thead>\n",
       "    <tr style=\"text-align: right;\">\n",
       "      <th></th>\n",
       "      <th>names</th>\n",
       "      <th>scores50</th>\n",
       "      <th>scores75</th>\n",
       "    </tr>\n",
       "  </thead>\n",
       "  <tbody>\n",
       "    <tr>\n",
       "      <th>96</th>\n",
       "      <td>0.2-0-0-0.8</td>\n",
       "      <td>0.896863</td>\n",
       "      <td>0.896863</td>\n",
       "    </tr>\n",
       "    <tr>\n",
       "      <th>60</th>\n",
       "      <td>0.1-0.1-0-0.8</td>\n",
       "      <td>0.896863</td>\n",
       "      <td>0.896863</td>\n",
       "    </tr>\n",
       "    <tr>\n",
       "      <th>97</th>\n",
       "      <td>0.2-0-0.2-0.6</td>\n",
       "      <td>0.896863</td>\n",
       "      <td>0.896863</td>\n",
       "    </tr>\n",
       "    <tr>\n",
       "      <th>54</th>\n",
       "      <td>0.1-0-0.3-0.6</td>\n",
       "      <td>0.896863</td>\n",
       "      <td>0.896863</td>\n",
       "    </tr>\n",
       "    <tr>\n",
       "      <th>53</th>\n",
       "      <td>0.1-0-0.1-0.8</td>\n",
       "      <td>0.896863</td>\n",
       "      <td>0.896863</td>\n",
       "    </tr>\n",
       "    <tr>\n",
       "      <th>133</th>\n",
       "      <td>0.3-0-0.1-0.6</td>\n",
       "      <td>0.896863</td>\n",
       "      <td>0.896863</td>\n",
       "    </tr>\n",
       "    <tr>\n",
       "      <th>103</th>\n",
       "      <td>0.2-0.1-0.1-0.6</td>\n",
       "      <td>0.896863</td>\n",
       "      <td>0.896863</td>\n",
       "    </tr>\n",
       "    <tr>\n",
       "      <th>138</th>\n",
       "      <td>0.3-0.1-0-0.6</td>\n",
       "      <td>0.896863</td>\n",
       "      <td>0.896863</td>\n",
       "    </tr>\n",
       "    <tr>\n",
       "      <th>52</th>\n",
       "      <td>0.1-0-0-0.9</td>\n",
       "      <td>0.896863</td>\n",
       "      <td>0.896863</td>\n",
       "    </tr>\n",
       "    <tr>\n",
       "      <th>0</th>\n",
       "      <td>0-0-0-1</td>\n",
       "      <td>0.896863</td>\n",
       "      <td>0.896863</td>\n",
       "    </tr>\n",
       "  </tbody>\n",
       "</table>\n",
       "</div>"
      ],
      "text/plain": [
       "               names  scores50  scores75\n",
       "96       0.2-0-0-0.8  0.896863  0.896863\n",
       "60     0.1-0.1-0-0.8  0.896863  0.896863\n",
       "97     0.2-0-0.2-0.6  0.896863  0.896863\n",
       "54     0.1-0-0.3-0.6  0.896863  0.896863\n",
       "53     0.1-0-0.1-0.8  0.896863  0.896863\n",
       "133    0.3-0-0.1-0.6  0.896863  0.896863\n",
       "103  0.2-0.1-0.1-0.6  0.896863  0.896863\n",
       "138    0.3-0.1-0-0.6  0.896863  0.896863\n",
       "52       0.1-0-0-0.9  0.896863  0.896863\n",
       "0            0-0-0-1  0.896863  0.896863"
      ]
     },
     "metadata": {},
     "output_type": "display_data"
    },
    {
     "data": {
      "text/html": [
       "<div>\n",
       "<table border=\"1\" class=\"dataframe\">\n",
       "  <thead>\n",
       "    <tr style=\"text-align: right;\">\n",
       "      <th></th>\n",
       "      <th>names</th>\n",
       "      <th>scores50</th>\n",
       "      <th>scores75</th>\n",
       "    </tr>\n",
       "  </thead>\n",
       "  <tbody>\n",
       "    <tr>\n",
       "      <th>96</th>\n",
       "      <td>0.2-0-0-0.8</td>\n",
       "      <td>0.896863</td>\n",
       "      <td>0.896863</td>\n",
       "    </tr>\n",
       "    <tr>\n",
       "      <th>60</th>\n",
       "      <td>0.1-0.1-0-0.8</td>\n",
       "      <td>0.896863</td>\n",
       "      <td>0.896863</td>\n",
       "    </tr>\n",
       "    <tr>\n",
       "      <th>97</th>\n",
       "      <td>0.2-0-0.2-0.6</td>\n",
       "      <td>0.896863</td>\n",
       "      <td>0.896863</td>\n",
       "    </tr>\n",
       "    <tr>\n",
       "      <th>54</th>\n",
       "      <td>0.1-0-0.3-0.6</td>\n",
       "      <td>0.896863</td>\n",
       "      <td>0.896863</td>\n",
       "    </tr>\n",
       "    <tr>\n",
       "      <th>53</th>\n",
       "      <td>0.1-0-0.1-0.8</td>\n",
       "      <td>0.896863</td>\n",
       "      <td>0.896863</td>\n",
       "    </tr>\n",
       "    <tr>\n",
       "      <th>133</th>\n",
       "      <td>0.3-0-0.1-0.6</td>\n",
       "      <td>0.896863</td>\n",
       "      <td>0.896863</td>\n",
       "    </tr>\n",
       "    <tr>\n",
       "      <th>103</th>\n",
       "      <td>0.2-0.1-0.1-0.6</td>\n",
       "      <td>0.896863</td>\n",
       "      <td>0.896863</td>\n",
       "    </tr>\n",
       "    <tr>\n",
       "      <th>138</th>\n",
       "      <td>0.3-0.1-0-0.6</td>\n",
       "      <td>0.896863</td>\n",
       "      <td>0.896863</td>\n",
       "    </tr>\n",
       "    <tr>\n",
       "      <th>52</th>\n",
       "      <td>0.1-0-0-0.9</td>\n",
       "      <td>0.896863</td>\n",
       "      <td>0.896863</td>\n",
       "    </tr>\n",
       "    <tr>\n",
       "      <th>0</th>\n",
       "      <td>0-0-0-1</td>\n",
       "      <td>0.896863</td>\n",
       "      <td>0.896863</td>\n",
       "    </tr>\n",
       "  </tbody>\n",
       "</table>\n",
       "</div>"
      ],
      "text/plain": [
       "               names  scores50  scores75\n",
       "96       0.2-0-0-0.8  0.896863  0.896863\n",
       "60     0.1-0.1-0-0.8  0.896863  0.896863\n",
       "97     0.2-0-0.2-0.6  0.896863  0.896863\n",
       "54     0.1-0-0.3-0.6  0.896863  0.896863\n",
       "53     0.1-0-0.1-0.8  0.896863  0.896863\n",
       "133    0.3-0-0.1-0.6  0.896863  0.896863\n",
       "103  0.2-0.1-0.1-0.6  0.896863  0.896863\n",
       "138    0.3-0.1-0-0.6  0.896863  0.896863\n",
       "52       0.1-0-0-0.9  0.896863  0.896863\n",
       "0            0-0-0-1  0.896863  0.896863"
      ]
     },
     "metadata": {},
     "output_type": "display_data"
    }
   ],
   "source": [
    "# Combine predictions\n",
    "def computePreds(preds, cutoff) :\n",
    "    preds[preds > cutoff] = 1\n",
    "    preds[preds <= cutoff] = 0\n",
    "    return(preds)\n",
    "\n",
    "names = []\n",
    "scores50 = []\n",
    "scores75 = []\n",
    "range = [0, 0.1, 0.2, 0.3, 0.4, 0.5, 0.6, 0.8, 0.9, 1]\n",
    "for a in range :\n",
    "    for b in range : \n",
    "        for c in range :\n",
    "            for d in range :\n",
    "                if ((a + b + c + d) == 1) :\n",
    "                    name = str(a) + \"-\" + str(b) + \"-\" + str(c) + \"-\" + str(d)\n",
    "                    names.append(name)\n",
    "                    preds = (a * y_pred_lr) + (b * y_pred_svm) + (c * y_pred_rf) + (d * y_pred_knn)\n",
    "                    preds = computePreds(preds, 0.5)\n",
    "                    score = accuracy_score(y_test, preds)\n",
    "                    scores50.append(score)\n",
    "                    preds = computePreds(preds, 0.75)\n",
    "                    score = accuracy_score(y_test, preds)\n",
    "                    scores75.append(score)\n",
    "\n",
    "df = pd.DataFrame()\n",
    "df.loc[:, \"names\"] = pd.Series(names)\n",
    "df.loc[:, \"scores50\"] = pd.Series(scores50)\n",
    "df.loc[:, \"scores75\"] = pd.Series(scores75)\n",
    "print(\"Head : \")\n",
    "display(df.sort_values(\"scores50\", ascending = False).head(10))\n",
    "display(df.sort_values(\"scores75\", ascending = False).head(10))\n",
    "print(\"Tail : \")\n",
    "display(df.sort_values(\"scores50\", ascending = False).tail(10))\n",
    "display(df.sort_values(\"scores75\", ascending = False).tail(10))"
   ]
  },
  {
   "cell_type": "code",
   "execution_count": 59,
   "metadata": {
    "collapsed": false
   },
   "outputs": [
    {
     "name": "stdout",
     "output_type": "stream",
     "text": [
      "Best ensemble is a 50-50 weighted combination of the Random Forests and KNN models, but difference best and worse combinations seems pretty negligible (about 0.015 accuracy)\n"
     ]
    }
   ],
   "source": [
    "print(\"Best ensemble is a 50-50 weighted combination of the Random Forests and KNN models, but difference best and worse \\\n",
    "combinations seems pretty negligible (about 0.015 accuracy)\")"
   ]
  },
  {
   "cell_type": "code",
   "execution_count": null,
   "metadata": {
    "collapsed": true
   },
   "outputs": [],
   "source": []
  }
 ],
 "metadata": {
  "kernelspec": {
   "display_name": "Python [Root]",
   "language": "python",
   "name": "Python [Root]"
  },
  "language_info": {
   "codemirror_mode": {
    "name": "ipython",
    "version": 3
   },
   "file_extension": ".py",
   "mimetype": "text/x-python",
   "name": "python",
   "nbconvert_exporter": "python",
   "pygments_lexer": "ipython3",
   "version": "3.5.2"
  }
 },
 "nbformat": 4,
 "nbformat_minor": 0
}
