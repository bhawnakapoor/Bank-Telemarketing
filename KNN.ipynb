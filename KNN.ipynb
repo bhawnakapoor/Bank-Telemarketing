{
 "cells": [
  {
   "cell_type": "code",
   "execution_count": 12,
   "metadata": {
    "collapsed": true
   },
   "outputs": [],
   "source": [
    "# Imports\n",
    "import pandas as pd\n",
    "import numpy as np\n",
    "import matplotlib.pyplot as plt\n",
    "import seaborn as sns\n",
    "from sklearn.model_selection import cross_val_score, learning_curve, validation_curve, ShuffleSplit, train_test_split\n",
    "from sklearn.neighbors import KNeighborsClassifier\n",
    "from sklearn.metrics import confusion_matrix\n",
    "from IPython.display import display\n",
    "\n",
    "# Definitions\n",
    "pd.set_option('display.float_format', lambda x: '%.3f' % x)\n",
    "%matplotlib inline\n",
    "njobs = 4\n",
    "randomState = 0"
   ]
  },
  {
   "cell_type": "code",
   "execution_count": 2,
   "metadata": {
    "collapsed": true
   },
   "outputs": [],
   "source": [
    "# Load preprocessed data\n",
    "data = pd.read_csv(\"cleanData/data.csv\")\n",
    "y = pd.read_csv(\"cleanData/y.csv\", header = None)\n",
    "y = y[0]\n",
    "\n",
    "X_train, X_test, y_train, y_test = train_test_split(data, y, test_size = 0.25, random_state = randomState)"
   ]
  },
  {
   "cell_type": "code",
   "execution_count": 8,
   "metadata": {
    "collapsed": false
   },
   "outputs": [
    {
     "name": "stdout",
     "output_type": "stream",
     "text": [
      "x = 2\n",
      "x = 3\n",
      "x = 4\n",
      "x = 5\n",
      "x = 10\n",
      "x = 15\n",
      "x = 20\n",
      "x = 30\n",
      "x = 50\n"
     ]
    }
   ],
   "source": [
    "# Testing accuracy as a function of n_neighbors and weights\n",
    "scores_dis = []\n",
    "scores_uni = []\n",
    "param_range = [2, 3, 4, 5, 10, 15, 20, 30, 50]\n",
    "for x in param_range:\n",
    "    print(\"x = \" + str(x))\n",
    "    knn = KNeighborsClassifier(n_neighbors = x,\n",
    "                               weights = \"distance\", \n",
    "                               n_jobs = njobs)\n",
    "    knn.fit(X_train, y_train)\n",
    "    score = knn.score(X_test, y_test)\n",
    "    scores_dis.append(score)\n",
    "    knn = KNeighborsClassifier(n_neighbors = x,\n",
    "                               weights = \"uniform\", \n",
    "                               n_jobs = njobs)\n",
    "    knn.fit(X_train, y_train)\n",
    "    score = knn.score(X_test, y_test)\n",
    "    scores_uni.append(score)"
   ]
  },
  {
   "cell_type": "code",
   "execution_count": 9,
   "metadata": {
    "collapsed": false
   },
   "outputs": [
    {
     "data": {
      "image/png": "[encoded data removed]",
      "text/plain": [
       "<matplotlib.figure.Figure at 0x14485260ef0>"
      ]
     },
     "metadata": {},
     "output_type": "display_data"
    }
   ],
   "source": [
    "plt.plot(param_range, scores_dis, color = \"blue\", marker = \"o\", markersize = 5, label = \"distance accuracy\")\n",
    "plt.plot(param_range, scores_uni, color = \"green\", marker = \"o\", markersize = 5, label = \"uniform accuracy\")\n",
    "plt.xlabel(\"n_neighbors\")\n",
    "plt.ylabel(\"Accuracy\")\n",
    "plt.legend(loc = \"lower right\")\n",
    "plt.ylim([0.85, 0.92])\n",
    "plt.show()"
   ]
  },
  {
   "cell_type": "code",
   "execution_count": null,
   "metadata": {
    "collapsed": false
   },
   "outputs": [],
   "source": [
    "print(\"Using a uniform weighting strategy gives better accuracy than distance weighting, no matter how many neighbors we use\")\n",
    "print(\"The more neighbors we use the better results are, but to save time we will settle on 20\")"
   ]
  },
  {
   "cell_type": "code",
   "execution_count": 10,
   "metadata": {
    "collapsed": false
   },
   "outputs": [
    {
     "name": "stdout",
     "output_type": "stream",
     "text": [
      "Accuracy with best settings : 0.898319899\n"
     ]
    }
   ],
   "source": [
    "print(\"Accuracy with best settings : \" + str(scores_uni[8]))"
   ]
  },
  {
   "cell_type": "code",
   "execution_count": 11,
   "metadata": {
    "collapsed": false
   },
   "outputs": [
    {
     "name": "stdout",
     "output_type": "stream",
     "text": [
      "Accuracy is similar to the other models tested so far\n"
     ]
    }
   ],
   "source": [
    "print(\"Accuracy is similar to the other models tested so far\")"
   ]
  },
  {
   "cell_type": "code",
   "execution_count": null,
   "metadata": {
    "collapsed": true
   },
   "outputs": [],
   "source": []
  }
 ],
 "metadata": {
  "kernelspec": {
   "display_name": "Python [Root]",
   "language": "python",
   "name": "Python [Root]"
  },
  "language_info": {
   "codemirror_mode": {
    "name": "ipython",
    "version": 3
   },
   "file_extension": ".py",
   "mimetype": "text/x-python",
   "name": "python",
   "nbconvert_exporter": "python",
   "pygments_lexer": "ipython3",
   "version": "3.5.2"
  }
 },
 "nbformat": 4,
 "nbformat_minor": 0
}
