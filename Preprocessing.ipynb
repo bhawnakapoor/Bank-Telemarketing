{
 "cells": [
  {
   "cell_type": "code",
   "execution_count": 1,
   "metadata": {
    "collapsed": true
   },
   "outputs": [],
   "source": [
    "# Imports\n",
    "import pandas as pd\n",
    "import numpy as np\n",
    "import matplotlib.pyplot as plt\n",
    "import seaborn as sns\n",
    "import random\n",
    "from scipy.stats import skew\n",
    "from IPython.display import display\n",
    "from sklearn.model_selection import train_test_split\n",
    "from sklearn.preprocessing import StandardScaler\n",
    "\n",
    "# Definitions\n",
    "pd.set_option('display.float_format', lambda x: '%.3f' % x)\n",
    "%matplotlib inline\n",
    "njobs = 4\n",
    "randomState = 0"
   ]
  },
  {
   "cell_type": "code",
   "execution_count": 2,
   "metadata": {},
   "outputs": [
    {
     "data": {
      "text/html": [
       "<div>\n",
       "<table border=\"1\" class=\"dataframe\">\n",
       "  <thead>\n",
       "    <tr style=\"text-align: right;\">\n",
       "      <th></th>\n",
       "      <th>age</th>\n",
       "      <th>job</th>\n",
       "      <th>marital</th>\n",
       "      <th>education</th>\n",
       "      <th>default</th>\n",
       "      <th>housing</th>\n",
       "      <th>loan</th>\n",
       "      <th>contact</th>\n",
       "      <th>month</th>\n",
       "      <th>day_of_week</th>\n",
       "      <th>...</th>\n",
       "      <th>campaign</th>\n",
       "      <th>pdays</th>\n",
       "      <th>previous</th>\n",
       "      <th>poutcome</th>\n",
       "      <th>emp.var.rate</th>\n",
       "      <th>cons.price.idx</th>\n",
       "      <th>cons.conf.idx</th>\n",
       "      <th>euribor3m</th>\n",
       "      <th>nr.employed</th>\n",
       "      <th>y</th>\n",
       "    </tr>\n",
       "  </thead>\n",
       "  <tbody>\n",
       "    <tr>\n",
       "      <th>0</th>\n",
       "      <td>56</td>\n",
       "      <td>housemaid</td>\n",
       "      <td>married</td>\n",
       "      <td>basic.4y</td>\n",
       "      <td>no</td>\n",
       "      <td>no</td>\n",
       "      <td>no</td>\n",
       "      <td>telephone</td>\n",
       "      <td>may</td>\n",
       "      <td>mon</td>\n",
       "      <td>...</td>\n",
       "      <td>1</td>\n",
       "      <td>999</td>\n",
       "      <td>0</td>\n",
       "      <td>nonexistent</td>\n",
       "      <td>1.100</td>\n",
       "      <td>93.994</td>\n",
       "      <td>-36.400</td>\n",
       "      <td>4.857</td>\n",
       "      <td>5191.000</td>\n",
       "      <td>no</td>\n",
       "    </tr>\n",
       "    <tr>\n",
       "      <th>1</th>\n",
       "      <td>57</td>\n",
       "      <td>services</td>\n",
       "      <td>married</td>\n",
       "      <td>high.school</td>\n",
       "      <td>unknown</td>\n",
       "      <td>no</td>\n",
       "      <td>no</td>\n",
       "      <td>telephone</td>\n",
       "      <td>may</td>\n",
       "      <td>mon</td>\n",
       "      <td>...</td>\n",
       "      <td>1</td>\n",
       "      <td>999</td>\n",
       "      <td>0</td>\n",
       "      <td>nonexistent</td>\n",
       "      <td>1.100</td>\n",
       "      <td>93.994</td>\n",
       "      <td>-36.400</td>\n",
       "      <td>4.857</td>\n",
       "      <td>5191.000</td>\n",
       "      <td>no</td>\n",
       "    </tr>\n",
       "    <tr>\n",
       "      <th>2</th>\n",
       "      <td>37</td>\n",
       "      <td>services</td>\n",
       "      <td>married</td>\n",
       "      <td>high.school</td>\n",
       "      <td>no</td>\n",
       "      <td>yes</td>\n",
       "      <td>no</td>\n",
       "      <td>telephone</td>\n",
       "      <td>may</td>\n",
       "      <td>mon</td>\n",
       "      <td>...</td>\n",
       "      <td>1</td>\n",
       "      <td>999</td>\n",
       "      <td>0</td>\n",
       "      <td>nonexistent</td>\n",
       "      <td>1.100</td>\n",
       "      <td>93.994</td>\n",
       "      <td>-36.400</td>\n",
       "      <td>4.857</td>\n",
       "      <td>5191.000</td>\n",
       "      <td>no</td>\n",
       "    </tr>\n",
       "    <tr>\n",
       "      <th>3</th>\n",
       "      <td>40</td>\n",
       "      <td>admin.</td>\n",
       "      <td>married</td>\n",
       "      <td>basic.6y</td>\n",
       "      <td>no</td>\n",
       "      <td>no</td>\n",
       "      <td>no</td>\n",
       "      <td>telephone</td>\n",
       "      <td>may</td>\n",
       "      <td>mon</td>\n",
       "      <td>...</td>\n",
       "      <td>1</td>\n",
       "      <td>999</td>\n",
       "      <td>0</td>\n",
       "      <td>nonexistent</td>\n",
       "      <td>1.100</td>\n",
       "      <td>93.994</td>\n",
       "      <td>-36.400</td>\n",
       "      <td>4.857</td>\n",
       "      <td>5191.000</td>\n",
       "      <td>no</td>\n",
       "    </tr>\n",
       "    <tr>\n",
       "      <th>4</th>\n",
       "      <td>56</td>\n",
       "      <td>services</td>\n",
       "      <td>married</td>\n",
       "      <td>high.school</td>\n",
       "      <td>no</td>\n",
       "      <td>no</td>\n",
       "      <td>yes</td>\n",
       "      <td>telephone</td>\n",
       "      <td>may</td>\n",
       "      <td>mon</td>\n",
       "      <td>...</td>\n",
       "      <td>1</td>\n",
       "      <td>999</td>\n",
       "      <td>0</td>\n",
       "      <td>nonexistent</td>\n",
       "      <td>1.100</td>\n",
       "      <td>93.994</td>\n",
       "      <td>-36.400</td>\n",
       "      <td>4.857</td>\n",
       "      <td>5191.000</td>\n",
       "      <td>no</td>\n",
       "    </tr>\n",
       "  </tbody>\n",
       "</table>\n",
       "<p>5 rows × 21 columns</p>\n",
       "</div>"
      ],
      "text/plain": [
       "   age        job  marital    education  default housing loan    contact  \\\n",
       "0   56  housemaid  married     basic.4y       no      no   no  telephone   \n",
       "1   57   services  married  high.school  unknown      no   no  telephone   \n",
       "2   37   services  married  high.school       no     yes   no  telephone   \n",
       "3   40     admin.  married     basic.6y       no      no   no  telephone   \n",
       "4   56   services  married  high.school       no      no  yes  telephone   \n",
       "\n",
       "  month day_of_week ...  campaign  pdays  previous     poutcome emp.var.rate  \\\n",
       "0   may         mon ...         1    999         0  nonexistent        1.100   \n",
       "1   may         mon ...         1    999         0  nonexistent        1.100   \n",
       "2   may         mon ...         1    999         0  nonexistent        1.100   \n",
       "3   may         mon ...         1    999         0  nonexistent        1.100   \n",
       "4   may         mon ...         1    999         0  nonexistent        1.100   \n",
       "\n",
       "   cons.price.idx  cons.conf.idx  euribor3m  nr.employed   y  \n",
       "0          93.994        -36.400      4.857     5191.000  no  \n",
       "1          93.994        -36.400      4.857     5191.000  no  \n",
       "2          93.994        -36.400      4.857     5191.000  no  \n",
       "3          93.994        -36.400      4.857     5191.000  no  \n",
       "4          93.994        -36.400      4.857     5191.000  no  \n",
       "\n",
       "[5 rows x 21 columns]"
      ]
     },
     "metadata": {},
     "output_type": "display_data"
    },
    {
     "name": "stdout",
     "output_type": "stream",
     "text": [
      "Data dimensions : (41188, 21)\n",
      "Data columns : Index(['age', 'job', 'marital', 'education', 'default', 'housing', 'loan',\n",
      "       'contact', 'month', 'day_of_week', 'duration', 'campaign', 'pdays',\n",
      "       'previous', 'poutcome', 'emp.var.rate', 'cons.price.idx',\n",
      "       'cons.conf.idx', 'euribor3m', 'nr.employed', 'y'],\n",
      "      dtype='object')\n"
     ]
    }
   ],
   "source": [
    "# Get data\n",
    "data = pd.read_csv(\"rawData/bank-additional-full.csv\", sep = \";\")\n",
    "display(data.head())\n",
    "print(\"Data dimensions : \" + str(data.shape))\n",
    "print(\"Data columns : \" + str(data.columns))"
   ]
  },
  {
   "cell_type": "code",
   "execution_count": 3,
   "metadata": {
    "collapsed": true
   },
   "outputs": [],
   "source": [
    "# Remove dots from column names\n",
    "data.columns = ['age', 'job', 'marital', 'education', 'default', 'housing', 'loan', 'contact', 'month', 'day_of_week', \n",
    "                'duration', 'campaign', 'pdays', 'previous', 'poutcome', 'emp_var_rate', 'cons_price_idx',\n",
    "                'cons_conf_idx', 'euribor3m', 'nr_employed', 'y']"
   ]
  },
  {
   "cell_type": "code",
   "execution_count": 4,
   "metadata": {},
   "outputs": [
    {
     "name": "stdout",
     "output_type": "stream",
     "text": [
      "Target variable 'y' is yes or no -> classification problem\n",
      "Number of yes : 4640\n",
      "Number of no : 36548\n"
     ]
    }
   ],
   "source": [
    "# Quick look at the target variable\n",
    "print(\"Target variable 'y' is yes or no -> classification problem\")\n",
    "print(\"Number of yes : \" + str(data[data.y == \"yes\"].shape[0]))\n",
    "print(\"Number of no : \" + str(data[data.y == \"no\"].shape[0]))\n",
    "\n",
    "# Encode it as integer for machine learning algorithms\n",
    "data = data.replace({\"y\" : {\"no\" : 0, \"yes\" : 1}})"
   ]
  },
  {
   "cell_type": "code",
   "execution_count": 5,
   "metadata": {
    "scrolled": true
   },
   "outputs": [
    {
     "name": "stdout",
     "output_type": "stream",
     "text": [
      "There are several missing values in some categorical attributes, all coded with the 'unknown' label. These missing values can be treated as a possible class label or using deletion or imputation techniques.\n"
     ]
    }
   ],
   "source": [
    "# How to treat unknown labels?\n",
    "print(\"There are several missing values in some categorical attributes, all coded with the 'unknown' label. These \\\n",
    "missing values can be treated as a possible class label or using deletion or imputation techniques.\")"
   ]
  },
  {
   "cell_type": "code",
   "execution_count": 6,
   "metadata": {},
   "outputs": [
    {
     "name": "stdout",
     "output_type": "stream",
     "text": [
      "Preprocessing all variables : imputing missing values, encoding categorical variables in proper format\n"
     ]
    }
   ],
   "source": [
    "# Preprocess each variable\n",
    "print(\"Preprocessing all variables : imputing missing values, encoding categorical variables in proper format\")"
   ]
  },
  {
   "cell_type": "code",
   "execution_count": 7,
   "metadata": {},
   "outputs": [
    {
     "name": "stdout",
     "output_type": "stream",
     "text": [
      "NAs for age : 0\n"
     ]
    },
    {
     "data": {
      "image/png": "[encoded data removed]",
      "text/plain": [
       "<matplotlib.figure.Figure at 0x1bc8b912b38>"
      ]
     },
     "metadata": {},
     "output_type": "display_data"
    }
   ],
   "source": [
    "# age\n",
    "data.age.hist(bins = 50)\n",
    "print(\"NAs for age : \" + str(data.age.isnull().values.sum()))"
   ]
  },
  {
   "cell_type": "code",
   "execution_count": 8,
   "metadata": {},
   "outputs": [
    {
     "name": "stdout",
     "output_type": "stream",
     "text": [
      "admin.           10422\n",
      "blue-collar       9254\n",
      "technician        6743\n",
      "services          3969\n",
      "management        2924\n",
      "retired           1720\n",
      "entrepreneur      1456\n",
      "self-employed     1421\n",
      "housemaid         1060\n",
      "unemployed        1014\n",
      "student            875\n",
      "unknown            330\n",
      "Name: job, dtype: int64\n",
      "NAs for job : 0\n",
      "330 'unknown', impute most common value\n"
     ]
    }
   ],
   "source": [
    "# job\n",
    "print(data.job.value_counts())\n",
    "print(\"NAs for job : \" + str(data.job.isnull().values.sum()))\n",
    "print(\"330 'unknown', impute most common value\")\n",
    "data.loc[data[\"job\"] == \"unknown\", \"job\"] = \"admin.\""
   ]
  },
  {
   "cell_type": "code",
   "execution_count": 9,
   "metadata": {},
   "outputs": [
    {
     "name": "stdout",
     "output_type": "stream",
     "text": [
      "married     24928\n",
      "single      11568\n",
      "divorced     4612\n",
      "unknown        80\n",
      "Name: marital, dtype: int64\n",
      "NAs for marital : 0\n",
      "80 'unknown', impute most common value\n"
     ]
    }
   ],
   "source": [
    "# marital\n",
    "print(data.marital.value_counts())\n",
    "print(\"NAs for marital : \" + str(data.marital.isnull().values.sum()))\n",
    "print(\"80 'unknown', impute most common value\")\n",
    "data.loc[data[\"marital\"] == \"unknown\", \"marital\"] = \"married\""
   ]
  },
  {
   "cell_type": "code",
   "execution_count": 10,
   "metadata": {},
   "outputs": [
    {
     "name": "stdout",
     "output_type": "stream",
     "text": [
      "university.degree      12168\n",
      "high.school             9515\n",
      "basic.9y                6045\n",
      "professional.course     5243\n",
      "basic.4y                4176\n",
      "basic.6y                2292\n",
      "unknown                 1731\n",
      "illiterate                18\n",
      "Name: education, dtype: int64\n",
      "NAs for education : 0\n",
      "1731 'unknown', impute most common value\n",
      "basic.4y : left school at 10 years old\n",
      "basic.6y : left school at 12 years old\n",
      "basic.9y : left school at 15 years old\n"
     ]
    }
   ],
   "source": [
    "# education\n",
    "print(data.education.value_counts())\n",
    "print(\"NAs for education : \" + str(data.education.isnull().values.sum()))\n",
    "print(\"1731 'unknown', impute most common value\")\n",
    "data.loc[data[\"education\"] == \"unknown\", \"education\"] = \"university.degree\"\n",
    "print(\"basic.4y : left school at 10 years old\")\n",
    "print(\"basic.6y : left school at 12 years old\")\n",
    "print(\"basic.9y : left school at 15 years old\")"
   ]
  },
  {
   "cell_type": "code",
   "execution_count": 11,
   "metadata": {},
   "outputs": [
    {
     "name": "stdout",
     "output_type": "stream",
     "text": [
      "no         32588\n",
      "unknown     8597\n",
      "yes            3\n",
      "Name: default, dtype: int64\n",
      "NAs for default : 0\n",
      "8597 'unknown'\n",
      "Only 3 'yes' -> we'll discard this variable, not enough information in it\n"
     ]
    }
   ],
   "source": [
    "# default\n",
    "print(data.default.value_counts())\n",
    "print(\"NAs for default : \" + str(data.default.isnull().values.sum()))\n",
    "print(\"8597 'unknown'\")\n",
    "print(\"Only 3 'yes' -> we'll discard this variable, not enough information in it\")\n",
    "data = data.drop([\"default\"], axis = 1)"
   ]
  },
  {
   "cell_type": "code",
   "execution_count": 12,
   "metadata": {},
   "outputs": [
    {
     "name": "stdout",
     "output_type": "stream",
     "text": [
      "yes        21576\n",
      "no         18622\n",
      "unknown      990\n",
      "Name: housing, dtype: int64\n",
      "NAs for housing : 0\n",
      "990 'unknown'. Since we have about same proportion of yes and no, let's impute NAs randomly\n"
     ]
    }
   ],
   "source": [
    "# housing\n",
    "print(data.housing.value_counts())\n",
    "print(\"NAs for housing : \" + str(data.housing.isnull().values.sum()))\n",
    "print(\"990 'unknown'. Since we have about same proportion of yes and no, let's impute NAs randomly\")\n",
    "data.loc[data[\"housing\"] == \"unknown\", \"housing\"] = random.choice([\"yes\", \"no\"])"
   ]
  },
  {
   "cell_type": "code",
   "execution_count": 13,
   "metadata": {},
   "outputs": [
    {
     "name": "stdout",
     "output_type": "stream",
     "text": [
      "no         33950\n",
      "yes         6248\n",
      "unknown      990\n",
      "Name: loan, dtype: int64\n",
      "NAs for loan : 0\n",
      "990 'unknown', impute most common value\n"
     ]
    }
   ],
   "source": [
    "# loan\n",
    "print(data.loan.value_counts())\n",
    "print(\"NAs for loan : \" + str(data.loan.isnull().values.sum()))\n",
    "print(\"990 'unknown', impute most common value\")\n",
    "data.loc[data[\"loan\"] == \"unknown\", \"loan\"] = \"no\""
   ]
  },
  {
   "cell_type": "code",
   "execution_count": 14,
   "metadata": {},
   "outputs": [
    {
     "name": "stdout",
     "output_type": "stream",
     "text": [
      "cellular     26144\n",
      "telephone    15044\n",
      "Name: contact, dtype: int64\n",
      "NAs for contact : 0\n"
     ]
    }
   ],
   "source": [
    "# contact\n",
    "print(data.contact.value_counts())\n",
    "print(\"NAs for contact : \" + str(data.contact.isnull().values.sum()))"
   ]
  },
  {
   "cell_type": "code",
   "execution_count": 15,
   "metadata": {},
   "outputs": [
    {
     "name": "stdout",
     "output_type": "stream",
     "text": [
      "may    13769\n",
      "jul     7174\n",
      "aug     6178\n",
      "jun     5318\n",
      "nov     4101\n",
      "apr     2632\n",
      "oct      718\n",
      "sep      570\n",
      "mar      546\n",
      "dec      182\n",
      "Name: month, dtype: int64\n",
      "NAs for month : 0\n"
     ]
    }
   ],
   "source": [
    "# month\n",
    "print(data.month.value_counts())\n",
    "print(\"NAs for month : \" + str(data.month.isnull().values.sum()))"
   ]
  },
  {
   "cell_type": "code",
   "execution_count": 16,
   "metadata": {},
   "outputs": [
    {
     "name": "stdout",
     "output_type": "stream",
     "text": [
      "thu    8623\n",
      "mon    8514\n",
      "wed    8134\n",
      "tue    8090\n",
      "fri    7827\n",
      "Name: day_of_week, dtype: int64\n",
      "NAs for day_of_week : 0\n"
     ]
    }
   ],
   "source": [
    "# day_of_week\n",
    "print(data.day_of_week.value_counts())\n",
    "print(\"NAs for day_of_week : \" + str(data.day_of_week.isnull().values.sum()))"
   ]
  },
  {
   "cell_type": "code",
   "execution_count": 17,
   "metadata": {},
   "outputs": [
    {
     "name": "stdout",
     "output_type": "stream",
     "text": [
      "NAs for duration : 0\n",
      "Important note:  this attribute highly affects the output target (e.g., if duration=0 then y='no'). Yet, the duration is not known before a call is performed. Also, after the end of the call y is obviously known. Thus, this input should only be included for benchmark purposes and should be discarded if the intention is to have a realistic predictive model.\n",
      "Removing it from data\n"
     ]
    },
    {
     "data": {
      "image/png": "[encoded data removed]",
      "text/plain": [
       "<matplotlib.figure.Figure at 0x1bc907bba20>"
      ]
     },
     "metadata": {},
     "output_type": "display_data"
    }
   ],
   "source": [
    "# duration\n",
    "data.duration.hist(bins = 50)\n",
    "print(\"NAs for duration : \" + str(data.duration.isnull().values.sum()))\n",
    "print(\"Important note:  this attribute highly affects the output target (e.g., if duration=0 then y='no'). Yet, the \\\n",
    "duration is not known before a call is performed. Also, after the end of the call y is obviously known. Thus, this input \\\n",
    "should only be included for benchmark purposes and should be discarded if the intention is to have a realistic predictive \\\n",
    "model.\")\n",
    "print(\"Removing it from data\")\n",
    "data = data.drop([\"duration\"], axis = 1)"
   ]
  },
  {
   "cell_type": "code",
   "execution_count": 18,
   "metadata": {},
   "outputs": [
    {
     "name": "stdout",
     "output_type": "stream",
     "text": [
      "1     17642\n",
      "2     10570\n",
      "3      5341\n",
      "4      2651\n",
      "5      1599\n",
      "6       979\n",
      "7       629\n",
      "8       400\n",
      "9       283\n",
      "10      225\n",
      "11      177\n",
      "12      125\n",
      "13       92\n",
      "14       69\n",
      "17       58\n",
      "15       51\n",
      "16       51\n",
      "18       33\n",
      "20       30\n",
      "19       26\n",
      "21       24\n",
      "22       17\n",
      "23       16\n",
      "24       15\n",
      "27       11\n",
      "29       10\n",
      "25        8\n",
      "26        8\n",
      "28        8\n",
      "30        7\n",
      "31        7\n",
      "35        5\n",
      "33        4\n",
      "32        4\n",
      "34        3\n",
      "40        2\n",
      "42        2\n",
      "43        2\n",
      "37        1\n",
      "39        1\n",
      "41        1\n",
      "56        1\n",
      "Name: campaign, dtype: int64\n",
      "NAs for campaign : 0\n"
     ]
    },
    {
     "data": {
      "image/png": "[encoded data removed]",
      "text/plain": [
       "<matplotlib.figure.Figure at 0x1bc90b4e6a0>"
      ]
     },
     "metadata": {},
     "output_type": "display_data"
    }
   ],
   "source": [
    "# campaign\n",
    "print(data.campaign.value_counts())\n",
    "data.campaign.hist(bins = 50)\n",
    "print(\"NAs for campaign : \" + str(data.campaign.isnull().values.sum()))"
   ]
  },
  {
   "cell_type": "code",
   "execution_count": 19,
   "metadata": {},
   "outputs": [
    {
     "name": "stdout",
     "output_type": "stream",
     "text": [
      "999    39673\n",
      "3        439\n",
      "6        412\n",
      "4        118\n",
      "9         64\n",
      "2         61\n",
      "7         60\n",
      "12        58\n",
      "10        52\n",
      "5         46\n",
      "13        36\n",
      "11        28\n",
      "1         26\n",
      "15        24\n",
      "14        20\n",
      "8         18\n",
      "0         15\n",
      "16        11\n",
      "17         8\n",
      "18         7\n",
      "19         3\n",
      "22         3\n",
      "21         2\n",
      "26         1\n",
      "20         1\n",
      "25         1\n",
      "27         1\n",
      "Name: pdays, dtype: int64\n",
      "NAs for pdays : 0\n",
      "999 means client was not previously contacted\n"
     ]
    },
    {
     "data": {
      "image/png": "[encoded data removed]",
      "text/plain": [
       "<matplotlib.figure.Figure at 0x1bc90aee9e8>"
      ]
     },
     "metadata": {},
     "output_type": "display_data"
    }
   ],
   "source": [
    "# pdays\n",
    "data.pdays.hist(bins = 50)\n",
    "print(data.pdays.value_counts())\n",
    "print(\"NAs for pdays : \" + str(data.pdays.isnull().values.sum()))\n",
    "print(\"999 means client was not previously contacted\")\n",
    "#print(\"Skews heavily the distribution. We'll transform 999 into 5, about twice the biggest normal value\")\n",
    "#data.loc[data[\"pdays\"] == 999, \"pdays\"] = 50\n",
    "#data.pdays.hist(bins = 50)"
   ]
  },
  {
   "cell_type": "code",
   "execution_count": 20,
   "metadata": {},
   "outputs": [
    {
     "name": "stdout",
     "output_type": "stream",
     "text": [
      "0    35563\n",
      "1     4561\n",
      "2      754\n",
      "3      216\n",
      "4       70\n",
      "5       18\n",
      "6        5\n",
      "7        1\n",
      "Name: previous, dtype: int64\n",
      "NAs for previous : 0\n"
     ]
    },
    {
     "data": {
      "image/png": "[encoded data removed]",
      "text/plain": [
       "<matplotlib.figure.Figure at 0x1bc9205f860>"
      ]
     },
     "metadata": {},
     "output_type": "display_data"
    }
   ],
   "source": [
    "# previous\n",
    "data.previous.hist(bins = 50)\n",
    "print(data.previous.value_counts())\n",
    "print(\"NAs for previous : \" + str(data.previous.isnull().values.sum()))"
   ]
  },
  {
   "cell_type": "code",
   "execution_count": 21,
   "metadata": {},
   "outputs": [
    {
     "name": "stdout",
     "output_type": "stream",
     "text": [
      "nonexistent    35563\n",
      "failure         4252\n",
      "success         1373\n",
      "Name: poutcome, dtype: int64\n",
      "NAs for poutcome : 0\n"
     ]
    }
   ],
   "source": [
    "# poutcome\n",
    "print(data.poutcome.value_counts())\n",
    "print(\"NAs for poutcome : \" + str(data.poutcome.isnull().values.sum()))"
   ]
  },
  {
   "cell_type": "code",
   "execution_count": 22,
   "metadata": {},
   "outputs": [
    {
     "name": "stdout",
     "output_type": "stream",
     "text": [
      "NAs for emp_var_rate : 0\n"
     ]
    },
    {
     "data": {
      "image/png": "[encoded data removed]",
      "text/plain": [
       "<matplotlib.figure.Figure at 0x1bc92188be0>"
      ]
     },
     "metadata": {},
     "output_type": "display_data"
    }
   ],
   "source": [
    "# emp_var_rate\n",
    "data.emp_var_rate.hist(bins = 50)\n",
    "print(\"NAs for emp_var_rate : \" + str(data.emp_var_rate.isnull().values.sum()))"
   ]
  },
  {
   "cell_type": "code",
   "execution_count": 23,
   "metadata": {},
   "outputs": [
    {
     "name": "stdout",
     "output_type": "stream",
     "text": [
      "NAs for cons_price_idx : 0\n"
     ]
    },
    {
     "data": {
      "image/png": "[encoded data removed]",
      "text/plain": [
       "<matplotlib.figure.Figure at 0x1bc922a6400>"
      ]
     },
     "metadata": {},
     "output_type": "display_data"
    }
   ],
   "source": [
    "# cons_price_idx\n",
    "data.cons_price_idx.hist(bins = 50)\n",
    "print(\"NAs for cons_price_idx : \" + str(data.cons_price_idx.isnull().values.sum()))"
   ]
  },
  {
   "cell_type": "code",
   "execution_count": 24,
   "metadata": {},
   "outputs": [
    {
     "name": "stdout",
     "output_type": "stream",
     "text": [
      "NAs for cons_conf_idx : 0\n"
     ]
    },
    {
     "data": {
      "image/png": "[encoded data removed]",
      "text/plain": [
       "<matplotlib.figure.Figure at 0x1bc921f9e48>"
      ]
     },
     "metadata": {},
     "output_type": "display_data"
    }
   ],
   "source": [
    "# cons_conf_idx\n",
    "data.cons_conf_idx.hist(bins = 50)\n",
    "print(\"NAs for cons_conf_idx : \" + str(data.cons_conf_idx.isnull().values.sum()))"
   ]
  },
  {
   "cell_type": "code",
   "execution_count": 25,
   "metadata": {},
   "outputs": [
    {
     "name": "stdout",
     "output_type": "stream",
     "text": [
      "NAs for euribor3m : 0\n"
     ]
    },
    {
     "data": {
      "image/png": "[encoded data removed]",
      "text/plain": [
       "<matplotlib.figure.Figure at 0x1bc920517f0>"
      ]
     },
     "metadata": {},
     "output_type": "display_data"
    }
   ],
   "source": [
    "# euribor3m\n",
    "data.euribor3m.hist(bins = 50)\n",
    "print(\"NAs for euribor3m : \" + str(data.euribor3m.isnull().values.sum()))"
   ]
  },
  {
   "cell_type": "code",
   "execution_count": 26,
   "metadata": {
    "scrolled": true
   },
   "outputs": [
    {
     "name": "stdout",
     "output_type": "stream",
     "text": [
      "NAs for nr_employed : 0\n"
     ]
    },
    {
     "data": {
      "image/png": "[encoded data removed]",
      "text/plain": [
       "<matplotlib.figure.Figure at 0x1bc921be3c8>"
      ]
     },
     "metadata": {},
     "output_type": "display_data"
    }
   ],
   "source": [
    "# nr_employed\n",
    "data.nr_employed.hist(bins = 50)\n",
    "print(\"NAs for nr_employed : \" + str(data.nr_employed.isnull().values.sum()))"
   ]
  },
  {
   "cell_type": "code",
   "execution_count": 27,
   "metadata": {},
   "outputs": [],
   "source": [
    "# Encode some categorical features as ordered numbers when there is information in the order\n",
    "data = data.replace({\"education\" : {\"illiterate\" : 1, \"basic.4y\" : 2, \"basic.6y\" : 3, \"basic.9y\" : 4, \"high.school\" : 5, \n",
    "                                    \"professional.course\" : 6, \"university.degree\" : 7}})"
   ]
  },
  {
   "cell_type": "code",
   "execution_count": 28,
   "metadata": {},
   "outputs": [],
   "source": [
    "# Create new features\n",
    "# 1* Simplifications of existing features\n",
    "data[\"smplJob\"] = data.job.replace({\"retired\" : 1, \"student\" : 1, \"unemployed\" : 1,\n",
    "                                    \"admin.\" : 2, \"blue-collar\" : 2, \"entrepreneur\" : 2, \"housemaid\" : 2, \n",
    "                                    \"management\" : 2, \"self-employed\" : 2, \"services\" : 2, \"technician\" : 2\n",
    "                                   })# 1 : not working, 2 : working\n",
    "data[\"smplMarital\"] = data.marital.replace({\"married\" : 1, \n",
    "                                            \"single\" : 2, \"divorced\" : 2 \n",
    "                                           })# 1 : married, 2 : not married                                                    \n",
    "data[\"smplEducation\"] = data.education.replace({1 : 1, 2 : 1, 3 : 1, 4 : 1,\n",
    "                                                5 : 2, \n",
    "                                                6 : 3, 7 : 3\n",
    "                                   })# 1 : noEduc, 2 : HS, 3 : superior\n",
    "data[\"smplMonth\"] = data.month.replace({\"dec\" : 1, \"jan\" : 1, \"feb\" : 1,\n",
    "                                        \"mar\" : 2, \"apr\" : 2, \"may\" : 2, \n",
    "                                        \"jun\" : 3, \"jul\" : 3, \"aug\" : 3,\n",
    "                                        \"sep\" : 4, \"oct\" : 4, \"nov\" : 4\n",
    "                                   })# 1 : winter, 2 : spring, 3 : summer, 4 : fall\n",
    "data[\"smplAge\"] = data.age.copy()\n",
    "data.loc[data[\"age\"] < 30, \"smplAge\"] = 1\n",
    "data.loc[(data[\"age\"] >= 30) & (data[\"age\"] < 40), \"smplAge\"] = 2\n",
    "data.loc[(data[\"age\"] >= 40) & (data[\"age\"] < 50), \"smplAge\"] = 3\n",
    "data.loc[(data[\"age\"] >= 50) & (data[\"age\"] < 60), \"smplAge\"] = 4\n",
    "data.loc[data[\"age\"] >= 60, \"smplAge\"] = 5\n",
    "data[\"smplCampaign\"] = data.campaign.copy()\n",
    "data.loc[data[\"campaign\"] == 1, \"smplCampaign\"] = 1\n",
    "data.loc[data[\"campaign\"] == 2, \"smplCampaign\"] = 2\n",
    "data.loc[(data[\"campaign\"] >= 3) & (data[\"campaign\"] <= 5), \"smplCampaign\"] = 3\n",
    "data.loc[data[\"campaign\"] >= 6, \"smplCampaign\"] = 4\n",
    "data[\"smplPdays\"] = data.pdays.copy()\n",
    "data.loc[data[\"pdays\"] == 999, \"smplPdays\"] = 1 # never contacted\n",
    "data.loc[data[\"pdays\"] < 7, \"smplPdays\"] = 2 # contacted less than a week ago (5 working days)\n",
    "data.loc[(data[\"pdays\"] >= 7) & (data[\"pdays\"] < 14), \"smplPdays\"] = 3 # contacted less than 2 weeks ago\n",
    "data.loc[data[\"pdays\"] >= 14, \"smplPdays\"] = 4\n",
    "data[\"smplPrevious\"] = data.previous.copy()\n",
    "data.loc[data[\"previous\"] == 0, \"smplPrevious\"] = 1\n",
    "data.loc[data[\"previous\"] == 1, \"smplPrevious\"] = 2\n",
    "data.loc[data[\"previous\"] >= 2, \"smplPrevious\"] = 3\n",
    "data[\"smplEmp_var_rate\"] = data.emp_var_rate.copy()\n",
    "data.loc[data[\"emp_var_rate\"] <= -1, \"smplEmp_var_rate\"] = 1\n",
    "data.loc[(data[\"emp_var_rate\"] > -1) & (data[\"emp_var_rate\"] < 1), \"smplEmp_var_rate\"] = 2\n",
    "data.loc[data[\"emp_var_rate\"] >= 1, \"smplEmp_var_rate\"] = 3\n",
    "data[\"smplEuribor3m\"] = data.euribor3m.copy()\n",
    "data.loc[data[\"euribor3m\"] <= 3, \"smplEuribor3m\"] = 1\n",
    "data.loc[data[\"euribor3m\"] > 3, \"smplEuribor3m\"] = 2\n",
    "data[\"smplNr_employed\"] = data.nr_employed.copy()\n",
    "data.loc[data[\"nr_employed\"] <= 5050, \"smplNr_employed\"] = 1\n",
    "data.loc[(data[\"nr_employed\"] > 5050) & (data[\"nr_employed\"] < 5150), \"smplNr_employed\"] = 2\n",
    "data.loc[data[\"nr_employed\"] >= 5150, \"smplNr_employed\"] = 3\n"
   ]
  },
  {
   "cell_type": "code",
   "execution_count": 29,
   "metadata": {},
   "outputs": [],
   "source": [
    "# 2* Combinations of existing features\n",
    "# Combo of age and education should be a good proxy for wealth\n",
    "data[\"smplAge*education\"] = data[\"smplAge\"] * data[\"education\"]"
   ]
  },
  {
   "cell_type": "code",
   "execution_count": 30,
   "metadata": {},
   "outputs": [
    {
     "name": "stdout",
     "output_type": "stream",
     "text": [
      "(41188, 31)\n"
     ]
    },
    {
     "data": {
      "text/html": [
       "<div>\n",
       "<table border=\"1\" class=\"dataframe\">\n",
       "  <thead>\n",
       "    <tr style=\"text-align: right;\">\n",
       "      <th></th>\n",
       "      <th>age</th>\n",
       "      <th>job</th>\n",
       "      <th>marital</th>\n",
       "      <th>education</th>\n",
       "      <th>housing</th>\n",
       "      <th>loan</th>\n",
       "      <th>contact</th>\n",
       "      <th>month</th>\n",
       "      <th>day_of_week</th>\n",
       "      <th>campaign</th>\n",
       "      <th>...</th>\n",
       "      <th>smplEducation</th>\n",
       "      <th>smplMonth</th>\n",
       "      <th>smplAge</th>\n",
       "      <th>smplCampaign</th>\n",
       "      <th>smplPdays</th>\n",
       "      <th>smplPrevious</th>\n",
       "      <th>smplEmp_var_rate</th>\n",
       "      <th>smplEuribor3m</th>\n",
       "      <th>smplNr_employed</th>\n",
       "      <th>smplAge*education</th>\n",
       "    </tr>\n",
       "  </thead>\n",
       "  <tbody>\n",
       "    <tr>\n",
       "      <th>0</th>\n",
       "      <td>56</td>\n",
       "      <td>housemaid</td>\n",
       "      <td>married</td>\n",
       "      <td>2</td>\n",
       "      <td>no</td>\n",
       "      <td>no</td>\n",
       "      <td>telephone</td>\n",
       "      <td>may</td>\n",
       "      <td>mon</td>\n",
       "      <td>1</td>\n",
       "      <td>...</td>\n",
       "      <td>1</td>\n",
       "      <td>2</td>\n",
       "      <td>4</td>\n",
       "      <td>1</td>\n",
       "      <td>4</td>\n",
       "      <td>1</td>\n",
       "      <td>3.000</td>\n",
       "      <td>2.000</td>\n",
       "      <td>3.000</td>\n",
       "      <td>8</td>\n",
       "    </tr>\n",
       "    <tr>\n",
       "      <th>1</th>\n",
       "      <td>57</td>\n",
       "      <td>services</td>\n",
       "      <td>married</td>\n",
       "      <td>5</td>\n",
       "      <td>no</td>\n",
       "      <td>no</td>\n",
       "      <td>telephone</td>\n",
       "      <td>may</td>\n",
       "      <td>mon</td>\n",
       "      <td>1</td>\n",
       "      <td>...</td>\n",
       "      <td>2</td>\n",
       "      <td>2</td>\n",
       "      <td>4</td>\n",
       "      <td>1</td>\n",
       "      <td>4</td>\n",
       "      <td>1</td>\n",
       "      <td>3.000</td>\n",
       "      <td>2.000</td>\n",
       "      <td>3.000</td>\n",
       "      <td>20</td>\n",
       "    </tr>\n",
       "    <tr>\n",
       "      <th>2</th>\n",
       "      <td>37</td>\n",
       "      <td>services</td>\n",
       "      <td>married</td>\n",
       "      <td>5</td>\n",
       "      <td>yes</td>\n",
       "      <td>no</td>\n",
       "      <td>telephone</td>\n",
       "      <td>may</td>\n",
       "      <td>mon</td>\n",
       "      <td>1</td>\n",
       "      <td>...</td>\n",
       "      <td>2</td>\n",
       "      <td>2</td>\n",
       "      <td>2</td>\n",
       "      <td>1</td>\n",
       "      <td>4</td>\n",
       "      <td>1</td>\n",
       "      <td>3.000</td>\n",
       "      <td>2.000</td>\n",
       "      <td>3.000</td>\n",
       "      <td>10</td>\n",
       "    </tr>\n",
       "    <tr>\n",
       "      <th>3</th>\n",
       "      <td>40</td>\n",
       "      <td>admin.</td>\n",
       "      <td>married</td>\n",
       "      <td>3</td>\n",
       "      <td>no</td>\n",
       "      <td>no</td>\n",
       "      <td>telephone</td>\n",
       "      <td>may</td>\n",
       "      <td>mon</td>\n",
       "      <td>1</td>\n",
       "      <td>...</td>\n",
       "      <td>1</td>\n",
       "      <td>2</td>\n",
       "      <td>3</td>\n",
       "      <td>1</td>\n",
       "      <td>4</td>\n",
       "      <td>1</td>\n",
       "      <td>3.000</td>\n",
       "      <td>2.000</td>\n",
       "      <td>3.000</td>\n",
       "      <td>9</td>\n",
       "    </tr>\n",
       "    <tr>\n",
       "      <th>4</th>\n",
       "      <td>56</td>\n",
       "      <td>services</td>\n",
       "      <td>married</td>\n",
       "      <td>5</td>\n",
       "      <td>no</td>\n",
       "      <td>yes</td>\n",
       "      <td>telephone</td>\n",
       "      <td>may</td>\n",
       "      <td>mon</td>\n",
       "      <td>1</td>\n",
       "      <td>...</td>\n",
       "      <td>2</td>\n",
       "      <td>2</td>\n",
       "      <td>4</td>\n",
       "      <td>1</td>\n",
       "      <td>4</td>\n",
       "      <td>1</td>\n",
       "      <td>3.000</td>\n",
       "      <td>2.000</td>\n",
       "      <td>3.000</td>\n",
       "      <td>20</td>\n",
       "    </tr>\n",
       "  </tbody>\n",
       "</table>\n",
       "<p>5 rows × 31 columns</p>\n",
       "</div>"
      ],
      "text/plain": [
       "   age        job  marital  education housing loan    contact month  \\\n",
       "0   56  housemaid  married          2      no   no  telephone   may   \n",
       "1   57   services  married          5      no   no  telephone   may   \n",
       "2   37   services  married          5     yes   no  telephone   may   \n",
       "3   40     admin.  married          3      no   no  telephone   may   \n",
       "4   56   services  married          5      no  yes  telephone   may   \n",
       "\n",
       "  day_of_week  campaign        ...          smplEducation  smplMonth smplAge  \\\n",
       "0         mon         1        ...                      1          2       4   \n",
       "1         mon         1        ...                      2          2       4   \n",
       "2         mon         1        ...                      2          2       2   \n",
       "3         mon         1        ...                      1          2       3   \n",
       "4         mon         1        ...                      2          2       4   \n",
       "\n",
       "   smplCampaign  smplPdays  smplPrevious  smplEmp_var_rate  smplEuribor3m  \\\n",
       "0             1          4             1             3.000          2.000   \n",
       "1             1          4             1             3.000          2.000   \n",
       "2             1          4             1             3.000          2.000   \n",
       "3             1          4             1             3.000          2.000   \n",
       "4             1          4             1             3.000          2.000   \n",
       "\n",
       "   smplNr_employed  smplAge*education  \n",
       "0            3.000                  8  \n",
       "1            3.000                 20  \n",
       "2            3.000                 10  \n",
       "3            3.000                  9  \n",
       "4            3.000                 20  \n",
       "\n",
       "[5 rows x 31 columns]"
      ]
     },
     "metadata": {},
     "output_type": "display_data"
    }
   ],
   "source": [
    "print(data.shape)\n",
    "display(data.head())"
   ]
  },
  {
   "cell_type": "code",
   "execution_count": 31,
   "metadata": {},
   "outputs": [
    {
     "name": "stdout",
     "output_type": "stream",
     "text": [
      "Find most important features relative to target\n",
      "y                   1.000\n",
      "smplNr_employed     0.366\n",
      "nr_employed         0.355\n",
      "pdays               0.325\n",
      "smplPdays           0.313\n",
      "euribor3m           0.308\n",
      "emp_var_rate        0.298\n",
      "smplEuribor3m       0.291\n",
      "smplEmp_var_rate    0.282\n",
      "previous            0.230\n",
      "smplPrevious        0.226\n",
      "cons_price_idx      0.136\n",
      "smplJob             0.121\n",
      "campaign            0.066\n",
      "smplCampaign        0.065\n",
      "smplEducation       0.060\n",
      "education           0.055\n",
      "cons_conf_idx       0.055\n",
      "smplMonth           0.050\n",
      "smplMarital         0.043\n",
      "smplAge*education   0.036\n",
      "age                 0.030\n",
      "smplAge             0.017\n",
      "Name: y, dtype: float64\n",
      "No strong predictor so far\n"
     ]
    }
   ],
   "source": [
    "# Find most important features relative to target\n",
    "print(\"Find most important features relative to target\")\n",
    "corr = abs(data.corr())\n",
    "corr.sort_values([\"y\"], ascending = False, inplace = True)\n",
    "print(corr.y)\n",
    "print(\"No strong predictor so far\")"
   ]
  },
  {
   "cell_type": "code",
   "execution_count": 32,
   "metadata": {
    "collapsed": true
   },
   "outputs": [],
   "source": [
    "# 3* Polynomials on the top 10 existing features\n",
    "data[\"smplNr_employed-s2\"] = data[\"smplNr_employed\"] ** 2\n",
    "data[\"smplNr_employed-s3\"] = data[\"smplNr_employed\"] ** 3\n",
    "data[\"smplNr_employed-Sq\"] = np.sqrt(data[\"smplNr_employed\"])\n",
    "data[\"nr_employed-s2\"] = data[\"nr_employed\"] ** 2\n",
    "data[\"nr_employed-s3\"] = data[\"nr_employed\"] ** 3\n",
    "data[\"nr_employed-Sq\"] = np.sqrt(data[\"nr_employed\"])\n",
    "data[\"pdays-s2\"] = data[\"pdays\"] ** 2\n",
    "data[\"pdays-s3\"] = data[\"pdays\"] ** 3\n",
    "data[\"pdays-Sq\"] = np.sqrt(data[\"pdays\"])\n",
    "data[\"smplPdays-s2\"] = data[\"smplPdays\"] ** 2\n",
    "data[\"smplPdays-s3\"] = data[\"smplPdays\"] ** 3\n",
    "data[\"smplPdays-Sq\"] = np.sqrt(data[\"smplPdays\"])\n",
    "data[\"euribor3m-s2\"] = data[\"euribor3m\"] ** 2\n",
    "data[\"euribor3m-s3\"] = data[\"euribor3m\"] ** 3\n",
    "data[\"euribor3m-Sq\"] = np.sqrt(data[\"euribor3m\"])\n",
    "data[\"emp_var_rate-s2\"] = data[\"emp_var_rate\"] ** 2\n",
    "data[\"emp_var_rate-s3\"] = data[\"emp_var_rate\"] ** 3\n",
    "data[\"emp_var_rate-Sq\"] = np.sqrt(data[\"emp_var_rate\"])\n",
    "data[\"smplEuribor3m-s2\"] = data[\"smplEuribor3m\"] ** 2\n",
    "data[\"smplEuribor3m-s3\"] = data[\"smplEuribor3m\"] ** 3\n",
    "data[\"smplEuribor3m-Sq\"] = np.sqrt(data[\"smplEuribor3m\"])\n",
    "data[\"smplEmp_var_rate-s2\"] = data[\"smplEmp_var_rate\"] ** 2\n",
    "data[\"smplEmp_var_rate-s3\"] = data[\"smplEmp_var_rate\"] ** 3\n",
    "data[\"smplEmp_var_rate-Sq\"] = np.sqrt(data[\"smplEmp_var_rate\"])\n",
    "data[\"previous-s2\"] = data[\"previous\"] ** 2\n",
    "data[\"previous-s3\"] = data[\"previous\"] ** 3\n",
    "data[\"previous-Sq\"] = np.sqrt(data[\"previous\"])\n",
    "data[\"smplPrevious-s2\"] = data[\"smplPrevious\"] ** 2\n",
    "data[\"smplPrevious-s3\"] = data[\"smplPrevious\"] ** 3\n",
    "data[\"smplPrevious-Sq\"] = np.sqrt(data[\"smplPrevious\"])\n"
   ]
  },
  {
   "cell_type": "code",
   "execution_count": 33,
   "metadata": {
    "collapsed": true
   },
   "outputs": [],
   "source": [
    "# 4* Cross-products on the top 10 existing features\n",
    "data[\"smplNr_employed*nr_employed\"] = data[\"smplNr_employed\"] * data[\"nr_employed\"]\n",
    "data[\"smplNr_employed*pdays\"] = data[\"smplNr_employed\"] * data[\"pdays\"]\n",
    "data[\"smplNr_employed*smplPdays\"] = data[\"smplNr_employed\"] * data[\"smplPdays\"]\n",
    "data[\"smplNr_employed*euribor3m\"] = data[\"smplNr_employed\"] * data[\"euribor3m\"]\n",
    "data[\"smplNr_employed*emp_var_rate\"] = data[\"smplNr_employed\"] * data[\"emp_var_rate\"]\n",
    "data[\"smplNr_employed*smplEuribor3m\"] = data[\"smplNr_employed\"] * data[\"smplEuribor3m\"]\n",
    "data[\"smplNr_employed*smplEmp_var_rate\"] = data[\"smplNr_employed\"] * data[\"smplEmp_var_rate\"]\n",
    "data[\"smplNr_employed*previous\"] = data[\"smplNr_employed\"] * data[\"previous\"]\n",
    "data[\"smplNr_employed*smplPrevious\"] = data[\"smplNr_employed\"] * data[\"smplPrevious\"]\n",
    "data[\"nr_employed*pdays\"] = data[\"nr_employed\"] * data[\"pdays\"]\n",
    "data[\"nr_employed*smplPdays\"] = data[\"nr_employed\"] * data[\"smplPdays\"]\n",
    "data[\"nr_employed*euribor3m\"] = data[\"nr_employed\"] * data[\"euribor3m\"]\n",
    "data[\"nr_employed*emp_var_rate\"] = data[\"nr_employed\"] * data[\"emp_var_rate\"]\n",
    "data[\"nr_employed*smplEuribor3m\"] = data[\"nr_employed\"] * data[\"smplEuribor3m\"]\n",
    "data[\"nr_employed*smplEmp_var_rate\"] = data[\"nr_employed\"] * data[\"smplEmp_var_rate\"]\n",
    "data[\"nr_employed*previous\"] = data[\"nr_employed\"] * data[\"previous\"]\n",
    "data[\"nr_employed*smplPrevious\"] = data[\"nr_employed\"] * data[\"smplPrevious\"]\n",
    "data[\"pdays*smplPdays\"] = data[\"pdays\"] * data[\"smplPdays\"]\n",
    "data[\"pdays*euribor3m\"] = data[\"pdays\"] * data[\"euribor3m\"]\n",
    "data[\"pdays*emp_var_rate\"] = data[\"pdays\"] * data[\"emp_var_rate\"]\n",
    "data[\"pdays*smplEuribor3m\"] = data[\"pdays\"] * data[\"smplEuribor3m\"]\n",
    "data[\"pdays*smplEmp_var_rate\"] = data[\"pdays\"] * data[\"smplEmp_var_rate\"]\n",
    "data[\"pdays*previous\"] = data[\"pdays\"] * data[\"previous\"]\n",
    "data[\"pdays*smplPrevious\"] = data[\"pdays\"] * data[\"smplPrevious\"]\n",
    "data[\"smplPdays*euribor3m\"] = data[\"smplPdays\"] * data[\"euribor3m\"]\n",
    "data[\"smplPdays*emp_var_rate\"] = data[\"smplPdays\"] * data[\"emp_var_rate\"]\n",
    "data[\"smplPdays*smplEuribor3m\"] = data[\"smplPdays\"] * data[\"smplEuribor3m\"]\n",
    "data[\"smplPdays*smplEmp_var_rate\"] = data[\"smplPdays\"] * data[\"smplEmp_var_rate\"]\n",
    "data[\"smplPdays*previous\"] = data[\"smplPdays\"] * data[\"previous\"]\n",
    "data[\"smplPdays*smplPrevious\"] = data[\"smplPdays\"] * data[\"smplPrevious\"]\n",
    "data[\"euribor3m*emp_var_rate\"] = data[\"euribor3m\"] * data[\"emp_var_rate\"]\n",
    "data[\"euribor3m*smplEuribor3m\"] = data[\"euribor3m\"] * data[\"smplEuribor3m\"]\n",
    "data[\"euribor3m*smplEmp_var_rate\"] = data[\"euribor3m\"] * data[\"smplEmp_var_rate\"]\n",
    "data[\"euribor3m*previous\"] = data[\"euribor3m\"] * data[\"previous\"]\n",
    "data[\"euribor3m*smplPrevious\"] = data[\"euribor3m\"] * data[\"smplPrevious\"]\n",
    "data[\"emp_var_rate*smplEuribor3m\"] = data[\"emp_var_rate\"] * data[\"smplEuribor3m\"]\n",
    "data[\"emp_var_rate*smplEmp_var_rate\"] = data[\"emp_var_rate\"] * data[\"smplEmp_var_rate\"]\n",
    "data[\"emp_var_rate*previous\"] = data[\"emp_var_rate\"] * data[\"previous\"]\n",
    "data[\"emp_var_rate*smplPrevious\"] = data[\"emp_var_rate\"] * data[\"smplPrevious\"]\n",
    "data[\"smplEuribor3m*smplEmp_var_rate\"] = data[\"smplEuribor3m\"] * data[\"smplEmp_var_rate\"]\n",
    "data[\"smplEuribor3m*previous\"] = data[\"smplEuribor3m\"] * data[\"previous\"]\n",
    "data[\"smplEuribor3m*smplPrevious\"] = data[\"smplEuribor3m\"] * data[\"smplPrevious\"]\n",
    "data[\"smplEmp_var_rate*previous\"] = data[\"smplEmp_var_rate\"] * data[\"previous\"]\n",
    "data[\"smplEmp_var_rate*smplPrevious\"] = data[\"smplEmp_var_rate\"] * data[\"smplPrevious\"]\n",
    "data[\"previous*smplPrevious\"] = data[\"previous\"] * data[\"smplPrevious\"]\n"
   ]
  },
  {
   "cell_type": "code",
   "execution_count": 34,
   "metadata": {
    "scrolled": false
   },
   "outputs": [
    {
     "name": "stdout",
     "output_type": "stream",
     "text": [
      "Updated most important features relative to target\n",
      "y                               1.000\n",
      "smplNr_employed*pdays           0.402\n",
      "smplNr_employed*smplPdays       0.389\n",
      "smplNr_employed-Sq              0.375\n",
      "smplNr_employed                 0.366\n",
      "smplNr_employed*nr_employed     0.365\n",
      "pdays*smplEuribor3m             0.358\n",
      "nr_employed-Sq                  0.355\n",
      "nr_employed                     0.355\n",
      "nr_employed-s2                  0.354\n",
      "nr_employed-s3                  0.353\n",
      "nr_employed*smplPdays           0.348\n",
      "smplNr_employed-s2              0.348\n",
      "nr_employed*pdays               0.341\n",
      "smplNr_employed-s3              0.331\n",
      "smplPdays*smplEuribor3m         0.327\n",
      "pdays*euribor3m                 0.327\n",
      "pdays-Sq                        0.325\n",
      "pdays*smplPdays                 0.325\n",
      "pdays                           0.325\n",
      "pdays-s2                        0.325\n",
      "pdays-s3                        0.325\n",
      "pdays*smplEmp_var_rate          0.324\n",
      "smplNr_employed*smplEuribor3m   0.320\n",
      "emp_var_rate*smplPrevious       0.320\n",
      "euribor3m-Sq                    0.320\n",
      "smplPdays-s3                    0.317\n",
      "smplPdays*euribor3m             0.317\n",
      "smplPdays-s2                    0.315\n",
      "smplPdays                       0.313\n",
      "                                 ... \n",
      "pdays*emp_var_rate              0.226\n",
      "smplPrevious-Sq                 0.222\n",
      "previous-Sq                     0.217\n",
      "nr_employed*smplPrevious        0.216\n",
      "smplEuribor3m*previous          0.203\n",
      "smplEmp_var_rate*previous       0.203\n",
      "smplEmp_var_rate*smplPrevious   0.198\n",
      "previous-s2                     0.195\n",
      "smplPdays*previous              0.167\n",
      "smplNr_employed*smplPrevious    0.165\n",
      "smplNr_employed*previous        0.150\n",
      "cons_price_idx                  0.136\n",
      "previous-s3                     0.135\n",
      "pdays*smplPrevious              0.131\n",
      "smplJob                         0.121\n",
      "euribor3m*previous              0.110\n",
      "smplPdays*smplPrevious          0.092\n",
      "smplEuribor3m*smplPrevious      0.080\n",
      "campaign                        0.066\n",
      "smplCampaign                    0.065\n",
      "smplEducation                   0.060\n",
      "education                       0.055\n",
      "cons_conf_idx                   0.055\n",
      "smplMonth                       0.050\n",
      "emp_var_rate-Sq                 0.050\n",
      "smplMarital                     0.043\n",
      "smplAge*education               0.036\n",
      "age                             0.030\n",
      "pdays*previous                  0.025\n",
      "smplAge                         0.017\n",
      "Name: y, dtype: float64\n",
      "Almost all of the stronger predictors are new features\n"
     ]
    }
   ],
   "source": [
    "# Updated most important features relative to target\n",
    "print(\"Updated most important features relative to target\")\n",
    "corr = abs(data.corr())\n",
    "corr.sort_values([\"y\"], ascending = False, inplace = True)\n",
    "print(corr.y)\n",
    "print(\"Almost all of the stronger predictors are new features\")"
   ]
  },
  {
   "cell_type": "code",
   "execution_count": 35,
   "metadata": {},
   "outputs": [
    {
     "name": "stdout",
     "output_type": "stream",
     "text": [
      "Numerical features : 97\n",
      "Categorical features : 8\n"
     ]
    }
   ],
   "source": [
    "# Differentiate numerical features (minus the target) and categorical features\n",
    "y = data.y\n",
    "categorical_features = data.select_dtypes(include = [\"object\"]).columns\n",
    "numerical_features = data.select_dtypes(exclude = [\"object\"]).columns\n",
    "numerical_features = numerical_features.drop(\"y\")\n",
    "print(\"Numerical features : \" + str(len(numerical_features)))\n",
    "print(\"Categorical features : \" + str(len(categorical_features)))\n",
    "data_num = data[numerical_features]\n",
    "data_cat = data[categorical_features]"
   ]
  },
  {
   "cell_type": "code",
   "execution_count": 37,
   "metadata": {},
   "outputs": [
    {
     "name": "stdout",
     "output_type": "stream",
     "text": [
      "NAs for numerical features : 17191\n",
      "Remaining NAs for numerical features : 0\n"
     ]
    }
   ],
   "source": [
    "# Handle remaining missing values for numerical features by using median as replacement\n",
    "print(\"NAs for numerical features : \" + str(data_num.isnull().values.sum()))\n",
    "data_num = data_num.fillna(data_num.median())\n",
    "print(\"Remaining NAs for numerical features : \" + str(data_num.isnull().values.sum()))"
   ]
  },
  {
   "cell_type": "code",
   "execution_count": 39,
   "metadata": {},
   "outputs": [
    {
     "data": {
      "text/plain": [
       "'# Log transform of the skewed numerical features to lessen impact of outliers\\n# Normal distributions -> better learning\\n# As a general rule of thumb, a skewness with an absolute value > 0.75 is considered at least decently skewed\\nskewness = data_num.apply(lambda x: skew(x))\\nskewness = skewness[abs(skewness) > 0.75]\\nprint(str(skewness.shape[0]) + \" skewed numerical features to log transform\")\\nskewed_features = skewness.index\\ndata_num[skewed_features] = np.log1p(data_num[skewed_features])'"
      ]
     },
     "execution_count": 39,
     "metadata": {},
     "output_type": "execute_result"
    }
   ],
   "source": [
    "'''# Log transform of the skewed numerical features to lessen impact of outliers\n",
    "# Normal distributions -> better learning\n",
    "# As a general rule of thumb, a skewness with an absolute value > 0.75 is considered at least decently skewed\n",
    "skewness = data_num.apply(lambda x: skew(x))\n",
    "skewness = skewness[abs(skewness) > 0.75]\n",
    "print(str(skewness.shape[0]) + \" skewed numerical features to log transform\")\n",
    "skewed_features = skewness.index\n",
    "data_num[skewed_features] = np.log1p(data_num[skewed_features])'''"
   ]
  },
  {
   "cell_type": "code",
   "execution_count": 40,
   "metadata": {},
   "outputs": [],
   "source": [
    "# Standardize numerical features\n",
    "stdSc = StandardScaler()\n",
    "data_num = pd.DataFrame(stdSc.fit_transform(data_num), columns = data_num.columns)"
   ]
  },
  {
   "cell_type": "code",
   "execution_count": 41,
   "metadata": {},
   "outputs": [],
   "source": [
    "# Create dummy features for categorical values via one-hot encoding\n",
    "data_cat = pd.get_dummies(data_cat)"
   ]
  },
  {
   "cell_type": "code",
   "execution_count": 42,
   "metadata": {},
   "outputs": [
    {
     "name": "stdout",
     "output_type": "stream",
     "text": [
      "New number of features : 135\n"
     ]
    }
   ],
   "source": [
    "# Join categorical and numerical features\n",
    "data = pd.concat([data_num, data_cat], axis = 1)\n",
    "print(\"New number of features : \" + str(data.shape[1]))"
   ]
  },
  {
   "cell_type": "code",
   "execution_count": 43,
   "metadata": {
    "collapsed": true
   },
   "outputs": [],
   "source": [
    "# Write data in CSV files\n",
    "data.to_csv(\"cleanData/data.csv\", index = False)\n",
    "y.to_csv(\"cleanData/y.csv\", index = False)"
   ]
  },
  {
   "cell_type": "code",
   "execution_count": null,
   "metadata": {
    "collapsed": true
   },
   "outputs": [],
   "source": []
  }
 ],
 "metadata": {
  "anaconda-cloud": {},
  "kernelspec": {
   "display_name": "Python 3",
   "language": "python",
   "name": "python3"
  },
  "language_info": {
   "codemirror_mode": {
    "name": "ipython",
    "version": 3
   },
   "file_extension": ".py",
   "mimetype": "text/x-python",
   "name": "python",
   "nbconvert_exporter": "python",
   "pygments_lexer": "ipython3",
   "version": "3.7.3"
  }
 },
 "nbformat": 4,
 "nbformat_minor": 1
}
