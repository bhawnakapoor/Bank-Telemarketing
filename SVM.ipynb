{
 "cells": [
  {
   "cell_type": "code",
   "execution_count": 1,
   "metadata": {
    "collapsed": true
   },
   "outputs": [],
   "source": [
    "# Imports\n",
    "import pandas as pd\n",
    "import numpy as np\n",
    "import matplotlib.pyplot as plt\n",
    "import seaborn as sns\n",
    "from sklearn.model_selection import cross_val_score, learning_curve, validation_curve, ShuffleSplit, train_test_split\n",
    "from sklearn.svm import SVC\n",
    "from sklearn.metrics import confusion_matrix\n",
    "from IPython.display import display\n",
    "\n",
    "# Definitions\n",
    "pd.set_option('display.float_format', lambda x: '%.3f' % x)\n",
    "%matplotlib inline\n",
    "njobs = 4\n",
    "randomState = 0"
   ]
  },
  {
   "cell_type": "code",
   "execution_count": 2,
   "metadata": {
    "collapsed": true
   },
   "outputs": [],
   "source": [
    "# Load preprocessed data\n",
    "data = pd.read_csv(\"cleanData/data.csv\")\n",
    "y = pd.read_csv(\"cleanData/y.csv\", header = None)\n",
    "y = y[0]"
   ]
  },
  {
   "cell_type": "code",
   "execution_count": 3,
   "metadata": {
    "collapsed": true
   },
   "outputs": [],
   "source": [
    "# SVM\n",
    "svm = SVC(random_state = randomState)\n",
    "train_sizes, train_scores, test_scores = learning_curve(estimator = svm, \n",
    "                                                        X = data, \n",
    "                                                        y = y,\n",
    "                                                        train_sizes = np.linspace(start = 0.1, stop = 1.0, num = 10), \n",
    "                                                        cv = ShuffleSplit(n_splits = 5, \n",
    "                                                                          test_size = 0.25, \n",
    "                                                                          random_state = randomState), \n",
    "                                                        n_jobs = njobs)"
   ]
  },
  {
   "cell_type": "code",
   "execution_count": 4,
   "metadata": {
    "collapsed": false
   },
   "outputs": [
    {
     "data": {
      "image/png": "[encoded data removed]",
      "text/plain": [
       "<matplotlib.figure.Figure at 0x234e6994e48>"
      ]
     },
     "metadata": {},
     "output_type": "display_data"
    }
   ],
   "source": [
    "# Plot learning curve\n",
    "train_means = np.mean(train_scores, axis = 1)\n",
    "test_means = np.mean(test_scores, axis = 1)\n",
    "\n",
    "plt.plot(train_sizes, train_means, color = \"blue\", marker = \"o\", markersize = 5, label = \"training accuracy\")\n",
    "plt.plot(train_sizes, test_means, color = \"green\", linestyle = \"--\", marker = \"s\", markersize = 5, label = \"validation accuracy\")\n",
    "plt.xlabel(\"Number of training samples\")\n",
    "plt.ylabel(\"Accuracy\")\n",
    "plt.legend(loc = \"lower right\")\n",
    "plt.ylim([0.88, 0.92])\n",
    "plt.show()"
   ]
  },
  {
   "cell_type": "code",
   "execution_count": 5,
   "metadata": {
    "collapsed": false
   },
   "outputs": [
    {
     "name": "stdout",
     "output_type": "stream",
     "text": [
      "Accuracy with full training : 0.899193939983, similar to the score obtained with Logistic Regression\n",
      "No overfitting at all as long as we use at least about 15K training samples\n"
     ]
    }
   ],
   "source": [
    "print(\"Accuracy with full training : \" + str(test_means[9]) + \", similar to the score obtained with Logistic Regression\")\n",
    "print(\"No overfitting at all as long as we use at least about 18K training samples\") "
   ]
  },
  {
   "cell_type": "code",
   "execution_count": 6,
   "metadata": {
    "collapsed": false
   },
   "outputs": [
    {
     "data": {
      "image/png": "[encoded data removed]",
      "text/plain": [
       "<matplotlib.figure.Figure at 0x234e0a80c88>"
      ]
     },
     "metadata": {},
     "output_type": "display_data"
    }
   ],
   "source": [
    "# Plotting the confusion matrix\n",
    "X_train, X_test, y_train, y_test = train_test_split(data, y, test_size = 0.25, random_state = randomState)\n",
    "svm.fit(X_train, y_train)\n",
    "y_pred = svm.predict(X_test)\n",
    "confmat = confusion_matrix(y_test, y_pred)\n",
    "\n",
    "fig, ax = plt.subplots(figsize = (2.5, 2.5))\n",
    "ax.matshow(confmat, cmap = plt.cm.Blues, alpha = 0.5)\n",
    "for i in range(confmat.shape[0]) :\n",
    "    for j in range(confmat.shape[1]) : \n",
    "        ax.text(x = j, y = i, s = confmat[i, j], va = \"center\", ha = \"center\")\n",
    "plt.xlabel(\"Predicted label\")\n",
    "plt.ylabel(\"True label\")\n",
    "plt.show()"
   ]
  },
  {
   "cell_type": "code",
   "execution_count": 7,
   "metadata": {
    "collapsed": false
   },
   "outputs": [
    {
     "name": "stdout",
     "output_type": "stream",
     "text": [
      "SVM takes way too long, so we won't try tuning the parameters for this model\n"
     ]
    }
   ],
   "source": [
    "print(\"SVM takes way too long, so we won't try tuning the parameters for this model\")"
   ]
  },
  {
   "cell_type": "code",
   "execution_count": null,
   "metadata": {
    "collapsed": true
   },
   "outputs": [],
   "source": []
  }
 ],
 "metadata": {
  "anaconda-cloud": {},
  "kernelspec": {
   "display_name": "Python [Root]",
   "language": "python",
   "name": "Python [Root]"
  },
  "language_info": {
   "codemirror_mode": {
    "name": "ipython",
    "version": 3
   },
   "file_extension": ".py",
   "mimetype": "text/x-python",
   "name": "python",
   "nbconvert_exporter": "python",
   "pygments_lexer": "ipython3",
   "version": "3.5.2"
  }
 },
 "nbformat": 4,
 "nbformat_minor": 0
}
